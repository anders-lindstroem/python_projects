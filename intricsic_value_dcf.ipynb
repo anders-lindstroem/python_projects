{
 "cells": [
  {
   "cell_type": "markdown",
   "metadata": {},
   "source": [
    "# Using the DCF to calculate intrinsic value of company."
   ]
  },
  {
   "cell_type": "markdown",
   "metadata": {},
   "source": [
    "This notebook calculates the intricsic value of a given company by using the simplest model of discounted cash flow (DFC).\n",
    "This is done by projecting future cash flows with an obtained growth rate, and afterwards discounting these values to present value using the company's WACC.\n",
    "\n",
    "The data and projections are based on data obtained from several APIs and webpages (web-scraping)\n",
    "\n",
    "The script follows the following steps:\n",
    "\n",
    "Step 1) - Obtaining data (Free Cash Flow, WACC, Estimated Growth, etc.)\n",
    "\n",
    "Step 2) - Projection of Free Cash Flow\n",
    "\n",
    "Step 3) - Inserting values into DCF formulas and calculating intrinsic value."
   ]
  },
  {
   "cell_type": "markdown",
   "metadata": {},
   "source": [
    "#### Step 1 - Obtaining data"
   ]
  },
  {
   "cell_type": "code",
   "execution_count": 305,
   "metadata": {},
   "outputs": [],
   "source": [
    "#Importing relevant packages:\n",
    "import pandas as pd  \n",
    "import numpy as np  \n",
    "import yfinance as yf  \n",
    "import yahoo_fin.stock_info as si\n",
    "import json\n",
    "import urllib\n",
    "from urllib.request import urlopen\n",
    "import requests as requests\n",
    "import bs4\n",
    "from bs4 import BeautifulSoup\n",
    "import datetime\n",
    "from datetime import *\n",
    "import pandas_datareader as web"
   ]
  },
  {
   "cell_type": "code",
   "execution_count": 306,
   "metadata": {},
   "outputs": [],
   "source": [
    "ticker='AAPL' #The ticker for the company of which one wants to know the intrincsic value"
   ]
  },
  {
   "cell_type": "code",
   "execution_count": 307,
   "metadata": {},
   "outputs": [],
   "source": [
    "#Using the Financialmodelingprep API to gather Free Cash Flow, Total debt and Cash + Short Term Investments\n",
    "demo='adc4ac8ffec969a26ed16f5eadb3d077'\n",
    "url=f'https://financialmodelingprep.com/api/v3/cash-flow-statement/{ticker}?limit=120&apikey={demo}'\n",
    "\n",
    "response=urllib.request.urlopen(url)\n",
    "data=response.read().decode(\"utf-8\")\n",
    "data=json.loads(data)\n",
    "\n",
    "data=data[0]\n",
    "fcf=data['freeCashFlow']\n",
    "\n",
    "url_1=f'https://financialmodelingprep.com/api/v3/balance-sheet-statement/{ticker}?limit=120&apikey={demo}'\n",
    "\n",
    "response=urllib.request.urlopen(url_1)\n",
    "data1=response.read().decode(\"utf-8\")\n",
    "data1=json.loads(data1)\n",
    "\n",
    "data1=data1[0]\n",
    "total_debt=data1['totalDebt']\n",
    "cash_si=data1['cashAndShortTermInvestments']"
   ]
  },
  {
   "cell_type": "code",
   "execution_count": 308,
   "metadata": {},
   "outputs": [],
   "source": [
    "#Gets the EPS 5 years for the chosen company\n",
    "headers = {'User-Agent': 'Mozilla/5.0 (Macintosh; Intel Mac OS X 10_13_6) AppleWebKit/537.36 (KHTML, like Gecko) Chrome/71.0.3578.98 Safari/537.36'} #Header needed to gain access to webpage\n",
    "url2=(f'https://finviz.com/quote.ashx?t={ticker}')\n",
    "response = requests.get(url2,headers=headers).text  \n",
    "table=pd.read_html(response)[4]\n",
    "eps_5y=table.iloc[5,5]\n",
    "eps_5y=float(eps_5y.strip('%'))/100"
   ]
  },
  {
   "cell_type": "code",
   "execution_count": 309,
   "metadata": {},
   "outputs": [],
   "source": [
    "#Using BS to webscrape a page for the weighted average cost of capital (WACC)\n",
    "url3=(f'https://site.financialmodelingprep.com/weighted-average-cost-of-capital/{ticker}')\n",
    "returned=requests.get(url3,headers=headers).content\n",
    "soup=BeautifulSoup(returned,'html.parser')\n",
    "broth=soup.find(id='wacc')\n",
    "wacc=broth['value']\n",
    "wacc=float(wacc)/100"
   ]
  },
  {
   "cell_type": "markdown",
   "metadata": {},
   "source": [
    "#### Step 2 - Projection of FCF"
   ]
  },
  {
   "cell_type": "markdown",
   "metadata": {},
   "source": [
    "We have obtained the estimated growth rate of the company for the next 5 years (year 1-5)\n",
    "Taking a more conservative approach, we assume that the growth rate for year 6-10 is half of this (i.e. EPS_5Y*0.5)\n",
    "After year 10, we assume that the FCF will grow at a rate of 4% for the next 10 years (here ignoring that it could grow into perpetuity, still an issues im trying to resolve coding-wise)"
   ]
  },
  {
   "cell_type": "code",
   "execution_count": 315,
   "metadata": {},
   "outputs": [
    {
     "name": "stdout",
     "output_type": "stream",
     "text": [
      "The Free Cash Flow are expected to grow at a rate of 0.1485 for year 1-5.\n",
      "The Free Cash Flow are expected to grow at a rate of 0.07425 for year 6-10.\n",
      "The Free Cash Flow are expected to grow at a rate of 0.04 for year 11-20.\n"
     ]
    }
   ],
   "source": [
    "gfcf_5y=eps_5y\n",
    "gfcf_10y=gfcf_5y*0.5\n",
    "gfcf=0.04\n",
    "\n",
    "print(f'The Free Cash Flow are expected to grow at a rate of {gfcf_5y} for year 1-5.')\n",
    "print(f'The Free Cash Flow are expected to grow at a rate of {gfcf_10y} for year 6-10.')\n",
    "print(f'The Free Cash Flow are expected to grow at a rate of {gfcf} for year 11-20.')\n"
   ]
  },
  {
   "cell_type": "code",
   "execution_count": 311,
   "metadata": {},
   "outputs": [],
   "source": [
    "#Below is two for loops, that iterates through the given year, and calculates its projected free cash flow and then discounts it to present value\n",
    "discount_fcf_list=[]\n",
    "\n",
    "for n in range(1,6):\n",
    "    projected_fcf=fcf*(1+gfcf_5y)**n\n",
    "    discounted_fcf=projected_fcf/(1+wacc)**n\n",
    "    discount_fcf_list.append(discounted_fcf)\n",
    "\n",
    "\n",
    "for n in range(6,11):\n",
    "    fcf_5=fcf*(1+gfcf_5y)**5\n",
    "    projected_fcf=fcf_5*(1+gfcf_10y)**(n-5)\n",
    "    discounted_fcf=projected_fcf/(1+wacc)**n\n",
    "    discount_fcf_list.append(discounted_fcf)\n",
    "\n",
    "for n in range(11,21):\n",
    "    fcf_10=fcf_5*(1+gfcf_10y)**5\n",
    "    projected_fcf=fcf_10*(1+gfcf)**(n-10)\n",
    "    discounted_fcf=projected_fcf/(1+wacc)**n\n",
    "    discount_fcf_list.append(discounted_fcf)"
   ]
  },
  {
   "cell_type": "markdown",
   "metadata": {},
   "source": [
    "#### Step 3 - Inserting values into DCF formulas and calculating intrinsic value."
   ]
  },
  {
   "cell_type": "code",
   "execution_count": 312,
   "metadata": {},
   "outputs": [],
   "source": [
    "#Gets the number of outstanding shares\n",
    "si_data=si.get_quote_data(ticker)\n",
    "shares_outstanding=si_data['sharesOutstanding']"
   ]
  },
  {
   "cell_type": "code",
   "execution_count": 313,
   "metadata": {},
   "outputs": [],
   "source": [
    "#Sums up all the future free cash flow\n",
    "total_fcf=sum(discount_fcf_list)"
   ]
  },
  {
   "cell_type": "code",
   "execution_count": 316,
   "metadata": {},
   "outputs": [
    {
     "data": {
      "text/plain": [
       "134.02797708705"
      ]
     },
     "execution_count": 316,
     "metadata": {},
     "output_type": "execute_result"
    }
   ],
   "source": [
    "#Inserting our values into the (simple) DCF formuka\n",
    "p_0=(total_fcf+cash_si-total_debt)/shares_outstanding\n",
    "p_0"
   ]
  },
  {
   "cell_type": "markdown",
   "metadata": {},
   "source": [
    "The final return of the script is the estimated instrinsic value of a given company.\n",
    "It most certainly is a simplified valuation model, that draws upon several assumptions that might not always be true in reality.\n",
    "\n",
    "The model will most likely give the best estimations when working with blue chip stocks, that are stable and where growth is stable and somewhat predictable (I.e not growth-companies like Tesla)."
   ]
  }
 ],
 "metadata": {
  "interpreter": {
   "hash": "69c1ad819adcc717993c84b72b0a4ec5884fedb22ddedbac51987ef60beb2281"
  },
  "kernelspec": {
   "display_name": "Python 3.7.10 64-bit ('base': conda)",
   "name": "python3"
  },
  "language_info": {
   "codemirror_mode": {
    "name": "ipython",
    "version": 3
   },
   "file_extension": ".py",
   "mimetype": "text/x-python",
   "name": "python",
   "nbconvert_exporter": "python",
   "pygments_lexer": "ipython3",
   "version": "3.7.10"
  },
  "orig_nbformat": 4
 },
 "nbformat": 4,
 "nbformat_minor": 2
}
